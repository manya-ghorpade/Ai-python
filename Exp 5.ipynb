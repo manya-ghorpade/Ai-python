{
 "cells": [
  {
   "cell_type": "code",
   "execution_count": 3,
   "id": "52aca17c-df06-476a-9206-0bf10b866ae4",
   "metadata": {},
   "outputs": [
    {
     "name": "stdout",
     "output_type": "stream",
     "text": [
      "Starting at x = 0, f(x) = 0\n",
      "Moving to x = 0.1, f(x) = 0.39\n",
      "Moving to x = 0.2, f(x) = 0.76\n",
      "Moving to x = 0.30000000000000004, f(x) = 1.11\n",
      "Moving to x = 0.4, f(x) = 1.44\n",
      "Moving to x = 0.5, f(x) = 1.75\n",
      "Max iterations reached. Final state: x = 0.5, f(x) = 1.75\n"
     ]
    }
   ],
   "source": [
    "def objective_function(x):\n",
    "    return -x**2 + 4*x\n",
    "\n",
    "def hill_climb(start,step_Size=0.1,max_iteration=5):\n",
    "    current_state=start\n",
    "    current_value=objective_function(current_state)\n",
    "    print(f\"Starting at x = {current_state}, f(x) = {current_value}\")\n",
    "    \n",
    "    for _ in range(max_iteration):\n",
    "        neighbors = [current_state + step_Size, current_state - step_Size]\n",
    "        \n",
    "        next_state = max(neighbors, key=objective_function)\n",
    "        next_value = objective_function(next_state)\n",
    "        \n",
    "        if next_value > current_value:\n",
    "            current_state = next_state\n",
    "            current_value = next_value\n",
    "            print(f\"Moving to x = {current_state}, f(x) = {current_value}\")\n",
    "        else:\n",
    "            print(f\"Goal state or local peak reached.\")\n",
    "            print(f\"Final state: x = {current_state}, f(x) = {current_value}\")\n",
    "            break\n",
    "    else:\n",
    "        print(f\"Max iterations reached. Final state: x = {current_state}, f(x) = {current_value}\")\n",
    "\n",
    "hill_climb(start=0) "
   ]
  },
  {
   "cell_type": "code",
   "execution_count": null,
   "id": "f93ac7fa-cce8-4fbe-b39b-8803b2376a51",
   "metadata": {},
   "outputs": [],
   "source": []
  }
 ],
 "metadata": {
  "kernelspec": {
   "display_name": "Python 3 (ipykernel)",
   "language": "python",
   "name": "python3"
  },
  "language_info": {
   "codemirror_mode": {
    "name": "ipython",
    "version": 3
   },
   "file_extension": ".py",
   "mimetype": "text/x-python",
   "name": "python",
   "nbconvert_exporter": "python",
   "pygments_lexer": "ipython3",
   "version": "3.12.7"
  }
 },
 "nbformat": 4,
 "nbformat_minor": 5
}
