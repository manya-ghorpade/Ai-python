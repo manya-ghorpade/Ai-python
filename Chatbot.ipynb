{
 "cells": [
  {
   "cell_type": "code",
   "execution_count": null,
   "id": "f60b1fa6-e4a2-4da9-8112-1be6f518d4f6",
   "metadata": {},
   "outputs": [
    {
     "name": "stdout",
     "output_type": "stream",
     "text": [
      "Hello! I'm a chatbot. Type 'bye' to exit.\n"
     ]
    },
    {
     "name": "stdin",
     "output_type": "stream",
     "text": [
      "You:  Hello\n"
     ]
    },
    {
     "name": "stdout",
     "output_type": "stream",
     "text": [
      "Chatbot: Hi there!\n"
     ]
    },
    {
     "name": "stdin",
     "output_type": "stream",
     "text": [
      "You:  How are you doing\n"
     ]
    },
    {
     "name": "stdout",
     "output_type": "stream",
     "text": [
      "Chatbot: I'm doing great, thank you!\n"
     ]
    },
    {
     "name": "stdin",
     "output_type": "stream",
     "text": [
      "You:  what is the current time?\n"
     ]
    },
    {
     "name": "stdout",
     "output_type": "stream",
     "text": [
      "Chatbot: The current time is: 09:00:40)\n"
     ]
    },
    {
     "name": "stdin",
     "output_type": "stream",
     "text": [
      "You:  okayy bye\n"
     ]
    },
    {
     "name": "stdout",
     "output_type": "stream",
     "text": [
      "Chatbot: See you later!\n"
     ]
    }
   ],
   "source": [
    "import random\n",
    "import datetime\n",
    "\n",
    "# Define a dictionary for responses based on user input\n",
    "responses = {\n",
    "    \"greetings\": [\"Hi there!\", \"Hello!\", \"Hey, how can I help you?\"],\n",
    "    \"how_are_you\": [\"I'm doing great, thank you!\", \"I'm just a bot, but I'm good!\", \"I'm fine, how about you?\"],\n",
    "    \"time\": [\"The current time is:\", \"It is now:\"],\n",
    "    \"bye\": [\"Goodbye!\", \"See you later!\", \"Bye, take care!\"],\n",
    "    \"default\": [\"Sorry, I didn't understand that.\", \"Can you rephrase that?\", \"I'm not sure what you mean.\"]\n",
    "}\n",
    "\n",
    "# Function to get the current time\n",
    "def get_current_time():\n",
    "    now = datetime.datetime.now()\n",
    "    return now.strftime(\"%H:%M:%S\")\n",
    "\n",
    "# Function to generate responses based on user input\n",
    "def get_response(user_input):\n",
    "    user_input = user_input.lower()\n",
    "    \n",
    "    if 'hello' in user_input or 'hi' in user_input or 'hey' in user_input:\n",
    "        return random.choice(responses[\"greetings\"])\n",
    "    elif 'how are you' in user_input:\n",
    "        return random.choice(responses[\"how_are_you\"])\n",
    "    elif 'time' in user_input or 'what time' in user_input:\n",
    "        return f\"{random.choice(responses['time'])} {get_current_time()})\"\n",
    "    elif 'bye' in user_input:\n",
    "        return random.choice(responses[\"bye\"])\n",
    "    else:\n",
    "        return random.choice(responses[\"default\"])\n",
    "\n",
    "# Main chatbot function\n",
    "def chatbot():\n",
    "    print(\"Hello! I'm a chatbot. Type 'bye' to exit.\")\n",
    "    \n",
    "    while True:\n",
    "        user_input = input(\"You: \")\n",
    "        \n",
    "        # Exit if the user types 'bye'\n",
    "        if user_input.lower() == 'bye':\n",
    "            print(\"Chatbot: Goodbye!\")\n",
    "            break\n",
    "        \n",
    "        # Get and display the chatbot's response\n",
    "        response = get_response(user_input)\n",
    "        print(f\"Chatbot: {response}\")\n",
    "\n",
    "# Run the chatbot\n",
    "chatbot()\n"
   ]
  },
  {
   "cell_type": "code",
   "execution_count": null,
   "id": "e4f4c24a-6e18-4e95-96a4-03a752dff0ab",
   "metadata": {},
   "outputs": [],
   "source": []
  }
 ],
 "metadata": {
  "kernelspec": {
   "display_name": "Python 3 (ipykernel)",
   "language": "python",
   "name": "python3"
  },
  "language_info": {
   "codemirror_mode": {
    "name": "ipython",
    "version": 3
   },
   "file_extension": ".py",
   "mimetype": "text/x-python",
   "name": "python",
   "nbconvert_exporter": "python",
   "pygments_lexer": "ipython3",
   "version": "3.12.7"
  }
 },
 "nbformat": 4,
 "nbformat_minor": 5
}
