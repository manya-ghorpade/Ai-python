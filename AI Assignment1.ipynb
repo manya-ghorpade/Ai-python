{
 "cells": [
  {
   "cell_type": "code",
   "execution_count": 1,
   "id": "27dc76c1-50c4-4987-bfab-2dcdc474e67d",
   "metadata": {},
   "outputs": [
    {
     "name": "stdout",
     "output_type": "stream",
     "text": [
      "My name is Tom, I am 21 years old, my height is 5.9 feet, and it is True that I am a student.\n"
     ]
    }
   ],
   "source": [
    "#Write a Python program that declares variables of different data types (e.g., string, integer, float,and boolean). Output the variables in a sentence format using print() and f-strings.\n",
    "\n",
    "name=\"Tom\"\n",
    "age=21\n",
    "height=5.9\n",
    "is_student=True\n",
    "print(f\"My name is {name}, I am {age} years old, my height is {height} feet, and it is {is_student} that I am a student.\")"
   ]
  },
  {
   "cell_type": "code",
   "execution_count": 4,
   "id": "233ae772-20e8-47f2-80c7-a3350ed8cbe0",
   "metadata": {},
   "outputs": [
    {
     "name": "stdout",
     "output_type": "stream",
     "text": [
      "The number is positive.\n"
     ]
    }
   ],
   "source": [
    "#5.Write a Python program that takes an integer input and checks whether the number is positive,negative, or zero using conditional statements (if-else).\n",
    "\n",
    "n=5\n",
    "if n>0:\n",
    "    print(\"The number is positive.\")\n",
    "elif n<0:\n",
    "    print(\"The number is negative.\")\n",
    "else:\n",
    "    print(\"The number is zero.\")"
   ]
  },
  {
   "cell_type": "code",
   "execution_count": 6,
   "id": "5d688e44-67a6-4ae1-b83f-3964567795d5",
   "metadata": {},
   "outputs": [
    {
     "name": "stdout",
     "output_type": "stream",
     "text": [
      "5 x 1 = 5\n",
      "5 x 2 = 10\n",
      "5 x 3 = 15\n",
      "5 x 4 = 20\n",
      "5 x 5 = 25\n",
      "5 x 6 = 30\n",
      "5 x 7 = 35\n",
      "5 x 8 = 40\n",
      "5 x 9 = 45\n",
      "5 x 10 = 50\n"
     ]
    }
   ],
   "source": [
    "#6.Write a Python program that takes a number as input and prints the multiplication tablefor that number (from 1 to 10)\n",
    "\n",
    "n=5\n",
    "for i in range(1,11):\n",
    "    print(n,\"x\",i,\"=\",n*i)"
   ]
  },
  {
   "cell_type": "code",
   "execution_count": 7,
   "id": "5ebc4f50-8ede-4b70-aed1-d514b9be4308",
   "metadata": {},
   "outputs": [
    {
     "name": "stdout",
     "output_type": "stream",
     "text": [
      "['grape', 'fig', 'elderberry', 'cherry', 'apple']\n"
     ]
    }
   ],
   "source": [
    "\"\"\"7.Create a Python list that contains the names of 5 different fruits. Perform the given operations on\n",
    "the list\"\"\"\n",
    "fruits=[\"apple\",\"banana\",\"cherry\",\"date\",\"elderberry\"]\n",
    "fruits.append(\"fig\")\n",
    "fruits.remove(\"banana\")\n",
    "fruits[2]=\"grape\"\n",
    "fruits.sort()\n",
    "fruits.reverse()\n",
    "print(fruits)"
   ]
  },
  {
   "cell_type": "code",
   "execution_count": 8,
   "id": "b60194ca-95b9-4bb3-b272-304fcb1a5f2e",
   "metadata": {},
   "outputs": [
    {
     "name": "stdout",
     "output_type": "stream",
     "text": [
      "(1, 2, 3, 4, 5, 6)\n"
     ]
    }
   ],
   "source": [
    "#8.Write a Python program that creates a tuple containing 5 numbers. Perform the given operations on the tuple\n",
    "\n",
    "numbers=(1,2,3,4,5)\n",
    "numbers+= (6,)\n",
    "print(numbers)"
   ]
  },
  {
   "cell_type": "code",
   "execution_count": 10,
   "id": "a34a6cdd-c1b5-42f1-96ae-577a561fbad4",
   "metadata": {},
   "outputs": [
    {
     "name": "stdout",
     "output_type": "stream",
     "text": [
      "{'Rina': 99, 'Maxie': 92}\n"
     ]
    }
   ],
   "source": [
    "#9.Create a dictionary that stores the names of 3 students as keys and their marks in mathematics as values. Perform the given operations.\n",
    "\n",
    "students={\"Rina\":99,\"Riya\":90,\"Maxie\":78}\n",
    "students[\"Maxie\"]=92\n",
    "del students[\"Riya\"]\n",
    "students[\"Rina\"]=99\n",
    "print(students)"
   ]
  },
  {
   "cell_type": "code",
   "execution_count": 12,
   "id": "ed01f820-a3d5-4baf-9073-f46d198e8add",
   "metadata": {},
   "outputs": [
    {
     "name": "stdout",
     "output_type": "stream",
     "text": [
      "{1, 2, 3, 4, 5, 6, 7, 8} {4, 5} {1, 2, 3}\n"
     ]
    }
   ],
   "source": [
    "#10.Create two sets of integers. Perform the given set operations\n",
    "\n",
    "set1={1,2,3,4,5}\n",
    "set2={4,5,6,7,8}\n",
    "set3=set1.union(set2)\n",
    "set4=set1.intersection(set2)\n",
    "set5=set1.difference(set2)\n",
    "print(set3,set4,set5)"
   ]
  },
  {
   "cell_type": "code",
   "execution_count": 13,
   "id": "261020e4-a052-4498-bd14-30fc27f69e5a",
   "metadata": {},
   "outputs": [
    {
     "name": "stdout",
     "output_type": "stream",
     "text": [
      "8\n"
     ]
    }
   ],
   "source": [
    "#11.Write a Python function called find_largest() that takes a list of numbers as input and returns the largest number from the list. Test the function with a sample list\n",
    "\n",
    "def find_largest(nums):return max(nums)\n",
    "nums=[3,5,7,2,8]\n",
    "print(find_largest(nums))"
   ]
  },
  {
   "cell_type": "code",
   "execution_count": 16,
   "id": "83d89848-8f39-41d4-8e51-759385a93b9e",
   "metadata": {},
   "outputs": [
    {
     "name": "stdout",
     "output_type": "stream",
     "text": [
      "[4, 16, 36, 64, 100, 144, 196, 256, 324, 400]\n"
     ]
    }
   ],
   "source": [
    "#12.Use list comprehension to create a list of squares of all even numbers between 1 and 20\n",
    "\n",
    "squares=[x**2 for x in range(1,21) if x%2==0]\n",
    "print(squares)"
   ]
  },
  {
   "cell_type": "code",
   "execution_count": 18,
   "id": "907025da-7839-4393-842e-85baa0f9281e",
   "metadata": {},
   "outputs": [
    {
     "name": "stdout",
     "output_type": "stream",
     "text": [
      "20\n"
     ]
    }
   ],
   "source": [
    "#13. Write a Python script that uses a lambda function to calculate the product of two numbers provided by the user\n",
    "\n",
    "product=lambda x,y:x*y\n",
    "x=5\n",
    "y=4\n",
    "print(product(x,y))"
   ]
  },
  {
   "cell_type": "code",
   "execution_count": 20,
   "id": "6fe29dfe-56da-4a61-9e10-26d2323c8f12",
   "metadata": {},
   "outputs": [
    {
     "name": "stdout",
     "output_type": "stream",
     "text": [
      "(5,) 1\n",
      "(2, 3) 2\n",
      "(2, 2, 2) 3\n"
     ]
    }
   ],
   "source": [
    "#14. Write a Python program to create a one-dimensional, two-dimensional, and three-dimensional NumPy array.Print the shape and dimensions of each array\n",
    "\n",
    "import numpy as np\n",
    "arr1=np.array([1,2,3,4,5])\n",
    "arr2=np.array([[1,2,3],[4,5,6]])\n",
    "arr3=np.array([[[1,2],[3,4]],[[5,6],[7,8]]])\n",
    "print(arr1.shape,arr1.ndim)\n",
    "print(arr2.shape,arr2.ndim)\n",
    "print(arr3.shape,arr3.ndim)"
   ]
  },
  {
   "cell_type": "code",
   "execution_count": 22,
   "id": "73af23fa-6464-4a4e-ad02-8e0d3876a894",
   "metadata": {},
   "outputs": [
    {
     "name": "stdout",
     "output_type": "stream",
     "text": [
      "[[73 66 98 35 62]\n",
      " [55 60 59 16 14]\n",
      " [65  5 61 55 80]\n",
      " [38 35 82 12 72]\n",
      " [89 97 16 70 56]]\n",
      "55\n",
      "[[60 59 16]\n",
      " [ 5 61 55]\n",
      " [35 82 12]]\n"
     ]
    }
   ],
   "source": [
    "#15. Write a Python program to create a 5x5 NumPy array of random integers and Perform array indexing as given\n",
    "\n",
    "import numpy as np\n",
    "arr=np.random.randint(1,100,(5,5))\n",
    "print(arr)\n",
    "print(arr[2,3])\n",
    "print(arr[1:4,1:4])"
   ]
  },
  {
   "cell_type": "code",
   "execution_count": 24,
   "id": "55b99aae-ad9a-48cd-9f5f-1fba6040f78a",
   "metadata": {},
   "outputs": [
    {
     "name": "stdout",
     "output_type": "stream",
     "text": [
      "[[ 1  2  3  4]\n",
      " [ 5  6  7  8]\n",
      " [ 9 10 11 12]\n",
      " [13 14 15 16]]\n",
      "[[ 6  7]\n",
      " [10 11]]\n",
      "[[1 2]\n",
      " [5 6]]\n"
     ]
    }
   ],
   "source": [
    "#16. create a NumPy array of shape (4, 4) containing numbers from 1 to 16. Use slicing to extract for the given conditions\n",
    "\n",
    "import numpy as np\n",
    "arr=np.arange(1,17).reshape(4,4)\n",
    "print(arr)\n",
    "print(arr[1:3,1:3])\n",
    "print(arr[:2,:2])"
   ]
  },
  {
   "cell_type": "code",
   "execution_count": 26,
   "id": "cc270192-f2ae-40eb-8513-179bac7eb9bb",
   "metadata": {},
   "outputs": [
    {
     "name": "stdout",
     "output_type": "stream",
     "text": [
      "[ 0  1  2  3  4  5  6  7  8  9 10 11]\n"
     ]
    }
   ],
   "source": [
    "#17. Write a Python program that creates a 2D array of shape (6, 2) using np.arange() and then reshapes it into a 3D array of shape (2, 3, 2). Flatten the reshaped array and print the result.\n",
    "\n",
    "import numpy as np\n",
    "arr=np.arange(12).reshape(6,2)\n",
    "arr_3d=arr.reshape(2,3,2)\n",
    "arr_flat=arr_3d.flatten()\n",
    "print(arr_flat)"
   ]
  },
  {
   "cell_type": "code",
   "execution_count": 27,
   "id": "07005019-608c-4cb1-9da8-4e7232581f7f",
   "metadata": {},
   "outputs": [
    {
     "name": "stdout",
     "output_type": "stream",
     "text": [
      "[[ 2  3  4]\n",
      " [ 5  6  7]\n",
      " [ 8  9 10]]\n"
     ]
    }
   ],
   "source": [
    "#18. Write a Python program to demonstrate broadcasting. Create an array of shape (3, 3) and add a one-dimensional array of shape (1, 3) to it using broadcasting.\n",
    "\n",
    "import numpy as np\n",
    "arr1=np.array([[1,2,3],[4,5,6],[7,8,9]])\n",
    "arr2=np.array([1,1,1])\n",
    "result=arr1+arr2\n",
    "print(result)"
   ]
  },
  {
   "cell_type": "code",
   "execution_count": 31,
   "id": "f8dfee89-bf01-4fae-aa82-f4ac39192d50",
   "metadata": {},
   "outputs": [
    {
     "name": "stdout",
     "output_type": "stream",
     "text": [
      "[[10 10 10]\n",
      " [10 10 10]\n",
      " [10 10 10]]\n",
      "[[-8 -6 -4]\n",
      " [-2  0  2]\n",
      " [ 4  6  8]]\n",
      "[[ 9 16 21]\n",
      " [24 25 24]\n",
      " [21 16  9]]\n",
      "[[0.11111111 0.25       0.42857143]\n",
      " [0.66666667 1.         1.5       ]\n",
      " [2.33333333 4.         9.        ]]\n"
     ]
    }
   ],
   "source": [
    "\"\"\"19. Create two NumPy arrays of the same shape, A and B. Perform the following arithmetic operations:\n",
    "Element-wise addition.\n",
    "Element-wise subtraction.\n",
    "Element-wise multiplication.\n",
    "Element-wise division\"\"\"\n",
    "\n",
    "import numpy as np\n",
    "A=np.array([[1,2,3],[4,5,6],[7,8,9]])\n",
    "B=np.array([[9,8,7],[6,5,4],[3,2,1]])\n",
    "add=A+B\n",
    "sub=A-B\n",
    "mul=A*B\n",
    "div=A/B\n",
    "print(add)\n",
    "print(sub)\n",
    "print(mul)\n",
    "print(div)"
   ]
  },
  {
   "cell_type": "code",
   "execution_count": 34,
   "id": "80cb8d20-fe1e-4d7c-a1d8-7f75df8bdfc6",
   "metadata": {},
   "outputs": [
    {
     "name": "stdout",
     "output_type": "stream",
     "text": [
      "     Name  Maths  Science  English  Total Grade\n",
      "0   Aarav     85       88       80    253     A\n",
      "1    Isha     90       92       85    267     A\n",
      "2  Vihaan     78       85       88    251     A\n"
     ]
    }
   ],
   "source": [
    "\"\"\"20. Create a Pandas DataFrame with the given Name and marks of 3 courses:\n",
    "Add a new column named 'Total' that represents the sum of all the courses. Add 'Grade' based\n",
    "on the values of the 'Total'. Print the updated DataFrame with the new 'Total' and 'Grade'\n",
    "column\"\"\"\n",
    "\n",
    "import pandas as pd\n",
    "data={'Name': ['Aarav','Isha','Vihaan'],'Maths':[85,90,78],'Science':[88,92,85],'English':[80,85,88]}\n",
    "df=pd.DataFrame(data)\n",
    "df['Total']=df['Maths']+df['Science']+df['English']\n",
    "df['Grade']=df['Total'].apply(lambda x: 'A' if x>=250 else ('B' if x>=200 else 'C'))\n",
    "print(df)"
   ]
  },
  {
   "cell_type": "code",
   "execution_count": null,
   "id": "3aa3b210-d5a3-4176-95bf-441c7de626f0",
   "metadata": {},
   "outputs": [],
   "source": []
  }
 ],
 "metadata": {
  "kernelspec": {
   "display_name": "Python 3 (ipykernel)",
   "language": "python",
   "name": "python3"
  },
  "language_info": {
   "codemirror_mode": {
    "name": "ipython",
    "version": 3
   },
   "file_extension": ".py",
   "mimetype": "text/x-python",
   "name": "python",
   "nbconvert_exporter": "python",
   "pygments_lexer": "ipython3",
   "version": "3.12.7"
  }
 },
 "nbformat": 4,
 "nbformat_minor": 5
}
