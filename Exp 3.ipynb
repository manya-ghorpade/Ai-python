{
 "cells": [
  {
   "cell_type": "code",
   "execution_count": 21,
   "id": "201dde8d-3bc7-4128-8ede-309340655843",
   "metadata": {},
   "outputs": [
    {
     "name": "stdout",
     "output_type": "stream",
     "text": [
      "Least Cost path from A to F:['A', 'D', 'F']\n",
      "Total Cost:9\n"
     ]
    }
   ],
   "source": [
    "import heapq\n",
    "def uniform_cost_search(graph,start,goal):\n",
    "    priority_queue = [(0,start,[])]\n",
    "    visited = set()\n",
    "    while priority_queue:\n",
    "        cost,node,path = heapq.heappop(priority_queue)\n",
    "        if node in visited:\n",
    "            continue\n",
    "        path = path + [node]\n",
    "        visited.add(node)\n",
    "        if node == goal:\n",
    "            return cost,path\n",
    "        for neighbour,edge_cost in graph.get(node,[]):\n",
    "            if neighbour not in visited:\n",
    "                heapq.heappush(priority_queue,(cost+edge_cost,neighbour,path))\n",
    "    return float('inf'),[]\n",
    "graph ={\"A\":[(\"B\",2),(\"D\",3)],\n",
    "        \"B\":[(\"E\",5),(\"G\",5)],\n",
    "        \"D\":[(\"B\",1),(\"G\",2),(\"F\",6)],\n",
    "        }\n",
    "start_node = 'A'\n",
    "goal_node = 'F'\n",
    "cost,path = uniform_cost_search(graph,start_node,goal_node)\n",
    "print(f\"Least Cost path from {start_node} to {goal_node}:{path}\")\n",
    "print(f\"Total Cost:{cost}\")"
   ]
  },
  {
   "cell_type": "code",
   "execution_count": null,
   "id": "deaf73fb-8205-451b-89a9-15ee4abd6294",
   "metadata": {},
   "outputs": [],
   "source": []
  }
 ],
 "metadata": {
  "kernelspec": {
   "display_name": "Python 3 (ipykernel)",
   "language": "python",
   "name": "python3"
  },
  "language_info": {
   "codemirror_mode": {
    "name": "ipython",
    "version": 3
   },
   "file_extension": ".py",
   "mimetype": "text/x-python",
   "name": "python",
   "nbconvert_exporter": "python",
   "pygments_lexer": "ipython3",
   "version": "3.12.7"
  }
 },
 "nbformat": 4,
 "nbformat_minor": 5
}
