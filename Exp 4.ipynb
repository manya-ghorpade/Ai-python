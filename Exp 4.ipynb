{
 "cells": [
  {
   "cell_type": "code",
   "execution_count": 3,
   "id": "90751c73-cf88-48e6-b41b-db1656257e77",
   "metadata": {},
   "outputs": [
    {
     "name": "stdout",
     "output_type": "stream",
     "text": [
      "Path found: ['A', 'C', 'D', 'E', 'Z']\n",
      "Cost: 17\n"
     ]
    }
   ],
   "source": [
    "import heapq\n",
    "class Node:\n",
    "    def __init__(self, name, g=0, h=0):\n",
    "        self.name = name \n",
    "        self.g = g \n",
    "        self.h = h  \n",
    "        self.f = g + h \n",
    "        self.parent = None\n",
    "        \n",
    "    def __lt__(self, other):\n",
    "        return self.f < other.f\n",
    "\n",
    "def a_star(graph, start, goal, heuristic):\n",
    "    open_list = []\n",
    "    heapq.heappush(open_list, Node(start, 0, heuristic[start]))\n",
    "    closed_list = set()\n",
    "\n",
    "    while open_list:\n",
    "        current_node = heapq.heappop(open_list)\n",
    "        if current_node.name == goal:\n",
    "            path = []\n",
    "            total_cost = current_node.g\n",
    "            while current_node:\n",
    "                path.append(current_node.name)\n",
    "                current_node = current_node.parent\n",
    "            return path[::-1], total_cost\n",
    "        closed_list.add(current_node.name)\n",
    "        for neighbor, cost in graph[current_node.name]:\n",
    "            if neighbor in closed_list:\n",
    "                continue\n",
    "            g_cost = current_node.g + cost\n",
    "            h_cost = heuristic[neighbor]\n",
    "            f_cost = g_cost + h_cost\n",
    "            neighbor_node = Node(neighbor, g_cost, h_cost)\n",
    "            neighbor_node.parent = current_node\n",
    "            heapq.heappush(open_list, neighbor_node)\n",
    "    return None\n",
    "graph={\n",
    "    'A':[('C',3) ,('B',4)],\n",
    "    'B':[('F',5) ,('E',12)],\n",
    "    'C':[('D',7),('E',10)],\n",
    "    'D':[('E',2) ,('C',7)],\n",
    "    'E':[('B',12),('Z',5)],\n",
    "    'F':[('Z',16)],\n",
    "    'Z':[('E',5),('F',16)]\n",
    "}\n",
    "heuristic = {\n",
    "    'A':14,'B':12,'C':11,'D':6,'E':4,'F':11,'Z':0\n",
    "}\n",
    "start = 'A'\n",
    "goal = 'Z'\n",
    "path,cost = a_star(graph, start, goal, heuristic)\n",
    "if path:\n",
    "    print(\"Path found:\", path)\n",
    "else:\n",
    "    print(\"No path found\")\n",
    "print(\"Cost:\", cost)"
   ]
  },
  {
   "cell_type": "code",
   "execution_count": null,
   "id": "17a20dac-5f25-417c-8b67-b62e10d9770a",
   "metadata": {},
   "outputs": [],
   "source": []
  }
 ],
 "metadata": {
  "kernelspec": {
   "display_name": "Python 3 (ipykernel)",
   "language": "python",
   "name": "python3"
  },
  "language_info": {
   "codemirror_mode": {
    "name": "ipython",
    "version": 3
   },
   "file_extension": ".py",
   "mimetype": "text/x-python",
   "name": "python",
   "nbconvert_exporter": "python",
   "pygments_lexer": "ipython3",
   "version": "3.12.7"
  }
 },
 "nbformat": 4,
 "nbformat_minor": 5
}
