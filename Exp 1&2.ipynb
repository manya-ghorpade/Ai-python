{
 "cells": [
  {
   "cell_type": "code",
   "execution_count": 3,
   "id": "f590a4b8-0983-4bde-b8ad-0795a61d9ebe",
   "metadata": {},
   "outputs": [
    {
     "name": "stdout",
     "output_type": "stream",
     "text": [
      "[ 4  7 10 12 29 56]\n"
     ]
    }
   ],
   "source": [
    "import numpy as np\n",
    "arr=np.array([12,4,56,7,29,10])\n",
    "sortedArray=np.sort(arr)\n",
    "print(sortedArray)"
   ]
  },
  {
   "cell_type": "code",
   "execution_count": 13,
   "id": "01e47be3-0c89-4ba8-affa-9439a68d6101",
   "metadata": {},
   "outputs": [
    {
     "name": "stdout",
     "output_type": "stream",
     "text": [
      "[ 4  7 10 12 29 56]\n"
     ]
    }
   ],
   "source": [
    "import numpy as np\n",
    "arr=np.array([12,4,56,7,29,10])\n",
    "sortedArray=np.sort(arr)\n",
    "print(sortedArray)"
   ]
  },
  {
   "cell_type": "code",
   "execution_count": null,
   "id": "972be8eb-7447-484d-be01-d074945ffe0e",
   "metadata": {},
   "outputs": [],
   "source": [
    "import numpy as np\n",
    "arr=np.array(][12,4,56][7,29,10][65,83,23]])\n",
    "rowsorted=np.sort(arr)\n",
    "print(sortedArray)"
   ]
  },
  {
   "cell_type": "code",
   "execution_count": 15,
   "id": "b3ee0df6-0458-4d58-9704-a22db6b9e796",
   "metadata": {},
   "outputs": [
    {
     "name": "stdout",
     "output_type": "stream",
     "text": [
      "0    10\n",
      "1    20\n",
      "2    30\n",
      "dtype: int64\n"
     ]
    }
   ],
   "source": [
    "import pandas as pd\n",
    "l=[10,20,30]\n",
    "S=pd.Series(l)\n",
    "print(S)"
   ]
  },
  {
   "cell_type": "code",
   "execution_count": 21,
   "id": "f41333c7-7f40-454b-ab0a-fc7968eafb78",
   "metadata": {},
   "outputs": [
    {
     "name": "stdout",
     "output_type": "stream",
     "text": [
      "   StdID  Name  Roll.no\n",
      "0     10   Ram      101\n",
      "1     20  Siya      108\n",
      "2     30   Sam      116\n"
     ]
    }
   ],
   "source": [
    "import pandas as pd\n",
    "d={\"StdID\":[10,20,30],\"Name\":['Ram','Siya','Sam'],\"Roll.no\":[101,108,116]}\n",
    "df=pd.DataFrame(d)\n",
    "print(df)"
   ]
  },
  {
   "cell_type": "code",
   "execution_count": 13,
   "id": "1d89848b-9ac2-49d0-8a06-8df322bf794b",
   "metadata": {},
   "outputs": [
    {
     "name": "stdout",
     "output_type": "stream",
     "text": [
      "      Name  Age Department  Salary\n",
      "0    Alice   24         HR   50000\n",
      "1      Bob   27    Finance   60000\n",
      "2  Charlie   22         IT   55000\n",
      "3    David   32  Marketing   65000\n",
      "0    24\n",
      "1    27\n",
      "2    22\n",
      "3    32\n",
      "Name: Age, dtype: int64\n",
      "0      Alice\n",
      "1        Bob\n",
      "2    Charlie\n",
      "3      David\n",
      "Name: Name, dtype: object\n",
      "Name          Alice\n",
      "Age              24\n",
      "Department       HR\n",
      "Salary        50000\n",
      "Name: 0, dtype: object\n",
      "      Name  Age Department  Salary\n",
      "0    Alice   24         HR   50000\n",
      "1      Bob   27    Finance   60000\n",
      "2  Charlie   22         IT   55000\n"
     ]
    }
   ],
   "source": [
    "import pandas as pd\n",
    "d={\"Name\":['Alice','Bob','Charlie','David'],\"Age\":[24,27,22,32],\"Department\":['HR','Finance','IT','Marketing'],\"Salary\":[50000,60000,55000,65000]}\n",
    "df=pd.DataFrame(d)\n",
    "print(df)\n",
    "\n",
    "print(df['Age'])\n",
    "print(df['Name'])\n",
    "\n",
    "print(df.loc[0])\n",
    "print(df.loc[0:2])\n",
    "\n"
   ]
  },
  {
   "cell_type": "code",
   "execution_count": null,
   "id": "ddb81a39-56c0-4f6b-9168-f2cb34e18692",
   "metadata": {},
   "outputs": [],
   "source": []
  }
 ],
 "metadata": {
  "kernelspec": {
   "display_name": "Python 3 (ipykernel)",
   "language": "python",
   "name": "python3"
  },
  "language_info": {
   "codemirror_mode": {
    "name": "ipython",
    "version": 3
   },
   "file_extension": ".py",
   "mimetype": "text/x-python",
   "name": "python",
   "nbconvert_exporter": "python",
   "pygments_lexer": "ipython3",
   "version": "3.12.7"
  }
 },
 "nbformat": 4,
 "nbformat_minor": 5
}
